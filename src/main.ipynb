{
 "cells": [
  {
   "cell_type": "code",
   "execution_count": 52,
   "metadata": {},
   "outputs": [],
   "source": [
    "try:\n",
    "    import modin.pandas as pd # multiprocessing pandas\n",
    "except ImportError:\n",
    "    import pandas as pd"
   ]
  },
  {
   "attachments": {},
   "cell_type": "markdown",
   "metadata": {},
   "source": [
    "IMPORT DATA"
   ]
  },
  {
   "cell_type": "code",
   "execution_count": 53,
   "metadata": {},
   "outputs": [],
   "source": [
    "db = read_csv(\"../data/collegeinsight_data_nolabel_ICs_by_year.csv\", encoding= 'unicode_escape')\n",
    "db"
   ]
  },
  {
   "attachments": {},
   "cell_type": "markdown",
   "metadata": {},
   "source": [
    "CLEAN DATA"
   ]
  },
  {
   "cell_type": "code",
   "execution_count": null,
   "metadata": {},
   "outputs": [
    {
     "name": "stdout",
     "output_type": "stream",
     "text": [
      "['2000-01', '2003-04', '2004-05', '2005-06', '2006-07', '2007-08', '2008-09', '2009-10', '2010-11', '2011-12', '2012-13', '2013-14', '2014-15', '2015-16', '2016-17', '2017-18', '2018-19']\n",
      "[]\n",
      "1453\n"
     ]
    }
   ],
   "source": [
    "#db[['data_yr_string', 'name']]\n",
    "\n",
    "pred_data = ['coa_tuit_fees_d', 'coa_books_supp_d', 'coa_on_room_board_d']\n",
    "\n",
    "db['name'] = db['name'].str.upper() # make all names uppercase\n",
    "\n",
    "db = db[['name', 'data_yr_string'] + pred_data] # select only the columns we need\n",
    "\n",
    "for dat in pred_data:\n",
    "    db = db[db[dat].notnull()] # remove rows with null values\n",
    "\n",
    "\n",
    "yrs = sorted(list(set(db['data_yr_string'])))\n",
    "print(sorted(yrs))\n",
    "colleges = list(db[db['data_yr_string'] == yrs[0]]['name'])\n",
    "\n",
    "#print(colleges)\n",
    "print([(\"YALE\" in x) for x in colleges if \"YALE\" in x])\n",
    "\n",
    "for yr in yrs[1:]:\n",
    "    col = list(db[db['data_yr_string'] == yr]['name'])\n",
    "\n",
    "    colleges = [x for x in colleges if x in col]\n",
    "\n",
    "\n",
    "print(len(colleges))\n",
    "\n",
    "db = db[[x in colleges for x in db['name']]]\n",
    "\n",
    "\n",
    "#db[db['data_yr_string'] == yrs[0] and db['name'] == \"YALE UNIVERSITY\"]\n",
    "\n"
   ]
  },
  {
   "attachments": {},
   "cell_type": "markdown",
   "metadata": {},
   "source": [
    "Check entries"
   ]
  },
  {
   "cell_type": "code",
   "execution_count": null,
   "metadata": {},
   "outputs": [
    {
     "data": {
      "text/html": [
       "<div>\n",
       "<style scoped>\n",
       "    .dataframe tbody tr th:only-of-type {\n",
       "        vertical-align: middle;\n",
       "    }\n",
       "\n",
       "    .dataframe tbody tr th {\n",
       "        vertical-align: top;\n",
       "    }\n",
       "\n",
       "    .dataframe thead th {\n",
       "        text-align: right;\n",
       "    }\n",
       "</style>\n",
       "<table border=\"1\" class=\"dataframe\">\n",
       "  <thead>\n",
       "    <tr style=\"text-align: right;\">\n",
       "      <th></th>\n",
       "      <th>name</th>\n",
       "      <th>data_yr_string</th>\n",
       "      <th>coa_tuit_fees_d</th>\n",
       "      <th>coa_books_supp_d</th>\n",
       "      <th>coa_on_room_board_d</th>\n",
       "    </tr>\n",
       "  </thead>\n",
       "  <tbody>\n",
       "    <tr>\n",
       "      <th>1946</th>\n",
       "      <td>UNIVERSITY OF CONNECTICUT</td>\n",
       "      <td>2000-01</td>\n",
       "      <td>5596.0</td>\n",
       "      <td>725.0</td>\n",
       "      <td>6062.0</td>\n",
       "    </tr>\n",
       "    <tr>\n",
       "      <th>11462</th>\n",
       "      <td>UNIVERSITY OF CONNECTICUT</td>\n",
       "      <td>2003-04</td>\n",
       "      <td>6800.0</td>\n",
       "      <td>725.0</td>\n",
       "      <td>6888.0</td>\n",
       "    </tr>\n",
       "    <tr>\n",
       "      <th>19207</th>\n",
       "      <td>UNIVERSITY OF CONNECTICUT</td>\n",
       "      <td>2004-05</td>\n",
       "      <td>7490.0</td>\n",
       "      <td>725.0</td>\n",
       "      <td>7404.0</td>\n",
       "    </tr>\n",
       "    <tr>\n",
       "      <th>26929</th>\n",
       "      <td>UNIVERSITY OF CONNECTICUT</td>\n",
       "      <td>2005-06</td>\n",
       "      <td>7912.0</td>\n",
       "      <td>725.0</td>\n",
       "      <td>7848.0</td>\n",
       "    </tr>\n",
       "    <tr>\n",
       "      <th>34682</th>\n",
       "      <td>UNIVERSITY OF CONNECTICUT</td>\n",
       "      <td>2006-07</td>\n",
       "      <td>8362.0</td>\n",
       "      <td>726.0</td>\n",
       "      <td>8266.0</td>\n",
       "    </tr>\n",
       "    <tr>\n",
       "      <th>42440</th>\n",
       "      <td>UNIVERSITY OF CONNECTICUT</td>\n",
       "      <td>2007-08</td>\n",
       "      <td>8852.0</td>\n",
       "      <td>726.0</td>\n",
       "      <td>8850.0</td>\n",
       "    </tr>\n",
       "    <tr>\n",
       "      <th>50336</th>\n",
       "      <td>UNIVERSITY OF CONNECTICUT</td>\n",
       "      <td>2008-09</td>\n",
       "      <td>9338.0</td>\n",
       "      <td>800.0</td>\n",
       "      <td>9504.0</td>\n",
       "    </tr>\n",
       "    <tr>\n",
       "      <th>58324</th>\n",
       "      <td>UNIVERSITY OF CONNECTICUT</td>\n",
       "      <td>2009-10</td>\n",
       "      <td>9886.0</td>\n",
       "      <td>800.0</td>\n",
       "      <td>10120.0</td>\n",
       "    </tr>\n",
       "    <tr>\n",
       "      <th>66593</th>\n",
       "      <td>UNIVERSITY OF CONNECTICUT</td>\n",
       "      <td>2010-11</td>\n",
       "      <td>10416.0</td>\n",
       "      <td>800.0</td>\n",
       "      <td>10782.0</td>\n",
       "    </tr>\n",
       "    <tr>\n",
       "      <th>74990</th>\n",
       "      <td>UNIVERSITY OF CONNECTICUT</td>\n",
       "      <td>2011-12</td>\n",
       "      <td>10670.0</td>\n",
       "      <td>850.0</td>\n",
       "      <td>11050.0</td>\n",
       "    </tr>\n",
       "    <tr>\n",
       "      <th>83442</th>\n",
       "      <td>UNIVERSITY OF CONNECTICUT</td>\n",
       "      <td>2012-13</td>\n",
       "      <td>11242.0</td>\n",
       "      <td>850.0</td>\n",
       "      <td>11380.0</td>\n",
       "    </tr>\n",
       "    <tr>\n",
       "      <th>91955</th>\n",
       "      <td>UNIVERSITY OF CONNECTICUT</td>\n",
       "      <td>2013-14</td>\n",
       "      <td>12022.0</td>\n",
       "      <td>850.0</td>\n",
       "      <td>11722.0</td>\n",
       "    </tr>\n",
       "    <tr>\n",
       "      <th>100470</th>\n",
       "      <td>UNIVERSITY OF CONNECTICUT</td>\n",
       "      <td>2014-15</td>\n",
       "      <td>12700.0</td>\n",
       "      <td>850.0</td>\n",
       "      <td>12074.0</td>\n",
       "    </tr>\n",
       "    <tr>\n",
       "      <th>108871</th>\n",
       "      <td>UNIVERSITY OF CONNECTICUT</td>\n",
       "      <td>2015-16</td>\n",
       "      <td>13366.0</td>\n",
       "      <td>850.0</td>\n",
       "      <td>12436.0</td>\n",
       "    </tr>\n",
       "    <tr>\n",
       "      <th>117161</th>\n",
       "      <td>UNIVERSITY OF CONNECTICUT</td>\n",
       "      <td>2016-17</td>\n",
       "      <td>14066.0</td>\n",
       "      <td>850.0</td>\n",
       "      <td>12436.0</td>\n",
       "    </tr>\n",
       "    <tr>\n",
       "      <th>125256</th>\n",
       "      <td>UNIVERSITY OF CONNECTICUT</td>\n",
       "      <td>2017-18</td>\n",
       "      <td>14880.0</td>\n",
       "      <td>850.0</td>\n",
       "      <td>12514.0</td>\n",
       "    </tr>\n",
       "    <tr>\n",
       "      <th>132944</th>\n",
       "      <td>UNIVERSITY OF CONNECTICUT</td>\n",
       "      <td>2018-19</td>\n",
       "      <td>15730.0</td>\n",
       "      <td>950.0</td>\n",
       "      <td>12874.0</td>\n",
       "    </tr>\n",
       "  </tbody>\n",
       "</table>\n",
       "</div>"
      ],
      "text/plain": [
       "                             name data_yr_string  coa_tuit_fees_d  \\\n",
       "1946    UNIVERSITY OF CONNECTICUT        2000-01           5596.0   \n",
       "11462   UNIVERSITY OF CONNECTICUT        2003-04           6800.0   \n",
       "19207   UNIVERSITY OF CONNECTICUT        2004-05           7490.0   \n",
       "26929   UNIVERSITY OF CONNECTICUT        2005-06           7912.0   \n",
       "34682   UNIVERSITY OF CONNECTICUT        2006-07           8362.0   \n",
       "42440   UNIVERSITY OF CONNECTICUT        2007-08           8852.0   \n",
       "50336   UNIVERSITY OF CONNECTICUT        2008-09           9338.0   \n",
       "58324   UNIVERSITY OF CONNECTICUT        2009-10           9886.0   \n",
       "66593   UNIVERSITY OF CONNECTICUT        2010-11          10416.0   \n",
       "74990   UNIVERSITY OF CONNECTICUT        2011-12          10670.0   \n",
       "83442   UNIVERSITY OF CONNECTICUT        2012-13          11242.0   \n",
       "91955   UNIVERSITY OF CONNECTICUT        2013-14          12022.0   \n",
       "100470  UNIVERSITY OF CONNECTICUT        2014-15          12700.0   \n",
       "108871  UNIVERSITY OF CONNECTICUT        2015-16          13366.0   \n",
       "117161  UNIVERSITY OF CONNECTICUT        2016-17          14066.0   \n",
       "125256  UNIVERSITY OF CONNECTICUT        2017-18          14880.0   \n",
       "132944  UNIVERSITY OF CONNECTICUT        2018-19          15730.0   \n",
       "\n",
       "        coa_books_supp_d  coa_on_room_board_d  \n",
       "1946               725.0               6062.0  \n",
       "11462              725.0               6888.0  \n",
       "19207              725.0               7404.0  \n",
       "26929              725.0               7848.0  \n",
       "34682              726.0               8266.0  \n",
       "42440              726.0               8850.0  \n",
       "50336              800.0               9504.0  \n",
       "58324              800.0              10120.0  \n",
       "66593              800.0              10782.0  \n",
       "74990              850.0              11050.0  \n",
       "83442              850.0              11380.0  \n",
       "91955              850.0              11722.0  \n",
       "100470             850.0              12074.0  \n",
       "108871             850.0              12436.0  \n",
       "117161             850.0              12436.0  \n",
       "125256             850.0              12514.0  \n",
       "132944             950.0              12874.0  "
      ]
     },
     "execution_count": 49,
     "metadata": {},
     "output_type": "execute_result"
    }
   ],
   "source": [
    "db[db['name'] == \"UNIVERSITY OF CONNECTICUT\"]"
   ]
  },
  {
   "attachments": {},
   "cell_type": "markdown",
   "metadata": {},
   "source": [
    "ML  MODELING"
   ]
  },
  {
   "cell_type": "code",
   "execution_count": null,
   "metadata": {},
   "outputs": [],
   "source": [
    "from keras import layers, Sequential, models"
   ]
  },
  {
   "cell_type": "code",
   "execution_count": null,
   "metadata": {},
   "outputs": [
    {
     "name": "stdout",
     "output_type": "stream",
     "text": [
      "['name', 2000, 2003, 2004, 2005, 2006, 2007, 2008, 2009, 2010, 2011, 2012, 2013, 2014, 2015, 2016, 2017, 2018]\n",
      "15 / 1453\r"
     ]
    },
    {
     "ename": "KeyboardInterrupt",
     "evalue": "",
     "output_type": "error",
     "traceback": [
      "\u001b[1;31m---------------------------------------------------------------------------\u001b[0m",
      "\u001b[1;31mKeyboardInterrupt\u001b[0m                         Traceback (most recent call last)",
      "\u001b[1;32mc:\\Users\\ranyk\\projects\\uconn\\STAT4185-Project\\College-Cost-Projection\\src\\main.ipynb Cell 10\u001b[0m in \u001b[0;36m<cell line: 17>\u001b[1;34m()\u001b[0m\n\u001b[0;32m     <a href='vscode-notebook-cell:/c%3A/Users/ranyk/projects/uconn/STAT4185-Project/College-Cost-Projection/src/main.ipynb#X12sZmlsZQ%3D%3D?line=16'>17</a>\u001b[0m \u001b[39mfor\u001b[39;00m i \u001b[39min\u001b[39;00m \u001b[39mrange\u001b[39m(\u001b[39mlen\u001b[39m(colleges)):\n\u001b[0;32m     <a href='vscode-notebook-cell:/c%3A/Users/ranyk/projects/uconn/STAT4185-Project/College-Cost-Projection/src/main.ipynb#X12sZmlsZQ%3D%3D?line=17'>18</a>\u001b[0m     tuition \u001b[39m=\u001b[39m [db[db[\u001b[39m'\u001b[39m\u001b[39mname\u001b[39m\u001b[39m'\u001b[39m] \u001b[39m==\u001b[39m colleges[i]][db[\u001b[39m'\u001b[39m\u001b[39mdata_yr_string\u001b[39m\u001b[39m'\u001b[39m] \u001b[39m==\u001b[39m x][\u001b[39m'\u001b[39m\u001b[39mcoa_tuit_fees_d\u001b[39m\u001b[39m'\u001b[39m]\u001b[39m.\u001b[39mvalues[\u001b[39m0\u001b[39m] \u001b[39mfor\u001b[39;00m x \u001b[39min\u001b[39;00m yrs]\n\u001b[1;32m---> <a href='vscode-notebook-cell:/c%3A/Users/ranyk/projects/uconn/STAT4185-Project/College-Cost-Projection/src/main.ipynb#X12sZmlsZQ%3D%3D?line=18'>19</a>\u001b[0m     supplies \u001b[39m=\u001b[39m [db[db[\u001b[39m'\u001b[39m\u001b[39mname\u001b[39m\u001b[39m'\u001b[39m] \u001b[39m==\u001b[39m colleges[i]][db[\u001b[39m'\u001b[39m\u001b[39mdata_yr_string\u001b[39m\u001b[39m'\u001b[39m] \u001b[39m==\u001b[39m x][\u001b[39m'\u001b[39m\u001b[39mcoa_books_supp_d\u001b[39m\u001b[39m'\u001b[39m]\u001b[39m.\u001b[39mvalues[\u001b[39m0\u001b[39m] \u001b[39mfor\u001b[39;00m x \u001b[39min\u001b[39;00m yrs]\n\u001b[0;32m     <a href='vscode-notebook-cell:/c%3A/Users/ranyk/projects/uconn/STAT4185-Project/College-Cost-Projection/src/main.ipynb#X12sZmlsZQ%3D%3D?line=19'>20</a>\u001b[0m     room \u001b[39m=\u001b[39m [db[db[\u001b[39m'\u001b[39m\u001b[39mname\u001b[39m\u001b[39m'\u001b[39m] \u001b[39m==\u001b[39m colleges[i]][db[\u001b[39m'\u001b[39m\u001b[39mdata_yr_string\u001b[39m\u001b[39m'\u001b[39m] \u001b[39m==\u001b[39m x][\u001b[39m'\u001b[39m\u001b[39mcoa_on_room_board_d\u001b[39m\u001b[39m'\u001b[39m]\u001b[39m.\u001b[39mvalues[\u001b[39m0\u001b[39m] \u001b[39mfor\u001b[39;00m x \u001b[39min\u001b[39;00m yrs]\n\u001b[0;32m     <a href='vscode-notebook-cell:/c%3A/Users/ranyk/projects/uconn/STAT4185-Project/College-Cost-Projection/src/main.ipynb#X12sZmlsZQ%3D%3D?line=20'>21</a>\u001b[0m     \u001b[39m#print([college] + tuition)\u001b[39;00m\n\u001b[0;32m     <a href='vscode-notebook-cell:/c%3A/Users/ranyk/projects/uconn/STAT4185-Project/College-Cost-Projection/src/main.ipynb#X12sZmlsZQ%3D%3D?line=21'>22</a>\u001b[0m     \u001b[39m#row = pd.DataFrame([colleges[i]] + tuition, columns = columns)\u001b[39;00m\n\u001b[0;32m     <a href='vscode-notebook-cell:/c%3A/Users/ranyk/projects/uconn/STAT4185-Project/College-Cost-Projection/src/main.ipynb#X12sZmlsZQ%3D%3D?line=22'>23</a>\u001b[0m     \u001b[39m#print(row)\u001b[39;00m\n",
      "\u001b[1;32mc:\\Users\\ranyk\\projects\\uconn\\STAT4185-Project\\College-Cost-Projection\\src\\main.ipynb Cell 10\u001b[0m in \u001b[0;36m<listcomp>\u001b[1;34m(.0)\u001b[0m\n\u001b[0;32m     <a href='vscode-notebook-cell:/c%3A/Users/ranyk/projects/uconn/STAT4185-Project/College-Cost-Projection/src/main.ipynb#X12sZmlsZQ%3D%3D?line=16'>17</a>\u001b[0m \u001b[39mfor\u001b[39;00m i \u001b[39min\u001b[39;00m \u001b[39mrange\u001b[39m(\u001b[39mlen\u001b[39m(colleges)):\n\u001b[0;32m     <a href='vscode-notebook-cell:/c%3A/Users/ranyk/projects/uconn/STAT4185-Project/College-Cost-Projection/src/main.ipynb#X12sZmlsZQ%3D%3D?line=17'>18</a>\u001b[0m     tuition \u001b[39m=\u001b[39m [db[db[\u001b[39m'\u001b[39m\u001b[39mname\u001b[39m\u001b[39m'\u001b[39m] \u001b[39m==\u001b[39m colleges[i]][db[\u001b[39m'\u001b[39m\u001b[39mdata_yr_string\u001b[39m\u001b[39m'\u001b[39m] \u001b[39m==\u001b[39m x][\u001b[39m'\u001b[39m\u001b[39mcoa_tuit_fees_d\u001b[39m\u001b[39m'\u001b[39m]\u001b[39m.\u001b[39mvalues[\u001b[39m0\u001b[39m] \u001b[39mfor\u001b[39;00m x \u001b[39min\u001b[39;00m yrs]\n\u001b[1;32m---> <a href='vscode-notebook-cell:/c%3A/Users/ranyk/projects/uconn/STAT4185-Project/College-Cost-Projection/src/main.ipynb#X12sZmlsZQ%3D%3D?line=18'>19</a>\u001b[0m     supplies \u001b[39m=\u001b[39m [db[db[\u001b[39m'\u001b[39m\u001b[39mname\u001b[39m\u001b[39m'\u001b[39m] \u001b[39m==\u001b[39m colleges[i]][db[\u001b[39m'\u001b[39;49m\u001b[39mdata_yr_string\u001b[39;49m\u001b[39m'\u001b[39;49m] \u001b[39m==\u001b[39;49m x][\u001b[39m'\u001b[39m\u001b[39mcoa_books_supp_d\u001b[39m\u001b[39m'\u001b[39m]\u001b[39m.\u001b[39mvalues[\u001b[39m0\u001b[39m] \u001b[39mfor\u001b[39;00m x \u001b[39min\u001b[39;00m yrs]\n\u001b[0;32m     <a href='vscode-notebook-cell:/c%3A/Users/ranyk/projects/uconn/STAT4185-Project/College-Cost-Projection/src/main.ipynb#X12sZmlsZQ%3D%3D?line=19'>20</a>\u001b[0m     room \u001b[39m=\u001b[39m [db[db[\u001b[39m'\u001b[39m\u001b[39mname\u001b[39m\u001b[39m'\u001b[39m] \u001b[39m==\u001b[39m colleges[i]][db[\u001b[39m'\u001b[39m\u001b[39mdata_yr_string\u001b[39m\u001b[39m'\u001b[39m] \u001b[39m==\u001b[39m x][\u001b[39m'\u001b[39m\u001b[39mcoa_on_room_board_d\u001b[39m\u001b[39m'\u001b[39m]\u001b[39m.\u001b[39mvalues[\u001b[39m0\u001b[39m] \u001b[39mfor\u001b[39;00m x \u001b[39min\u001b[39;00m yrs]\n\u001b[0;32m     <a href='vscode-notebook-cell:/c%3A/Users/ranyk/projects/uconn/STAT4185-Project/College-Cost-Projection/src/main.ipynb#X12sZmlsZQ%3D%3D?line=20'>21</a>\u001b[0m     \u001b[39m#print([college] + tuition)\u001b[39;00m\n\u001b[0;32m     <a href='vscode-notebook-cell:/c%3A/Users/ranyk/projects/uconn/STAT4185-Project/College-Cost-Projection/src/main.ipynb#X12sZmlsZQ%3D%3D?line=21'>22</a>\u001b[0m     \u001b[39m#row = pd.DataFrame([colleges[i]] + tuition, columns = columns)\u001b[39;00m\n\u001b[0;32m     <a href='vscode-notebook-cell:/c%3A/Users/ranyk/projects/uconn/STAT4185-Project/College-Cost-Projection/src/main.ipynb#X12sZmlsZQ%3D%3D?line=22'>23</a>\u001b[0m     \u001b[39m#print(row)\u001b[39;00m\n",
      "File \u001b[1;32mc:\\Users\\ranyk\\AppData\\Local\\Programs\\Python\\Python310\\lib\\site-packages\\pandas\\core\\ops\\common.py:72\u001b[0m, in \u001b[0;36m_unpack_zerodim_and_defer.<locals>.new_method\u001b[1;34m(self, other)\u001b[0m\n\u001b[0;32m     68\u001b[0m             \u001b[39mreturn\u001b[39;00m \u001b[39mNotImplemented\u001b[39m\n\u001b[0;32m     70\u001b[0m other \u001b[39m=\u001b[39m item_from_zerodim(other)\n\u001b[1;32m---> 72\u001b[0m \u001b[39mreturn\u001b[39;00m method(\u001b[39mself\u001b[39;49m, other)\n",
      "File \u001b[1;32mc:\\Users\\ranyk\\AppData\\Local\\Programs\\Python\\Python310\\lib\\site-packages\\pandas\\core\\arraylike.py:42\u001b[0m, in \u001b[0;36mOpsMixin.__eq__\u001b[1;34m(self, other)\u001b[0m\n\u001b[0;32m     40\u001b[0m \u001b[39m@unpack_zerodim_and_defer\u001b[39m(\u001b[39m\"\u001b[39m\u001b[39m__eq__\u001b[39m\u001b[39m\"\u001b[39m)\n\u001b[0;32m     41\u001b[0m \u001b[39mdef\u001b[39;00m \u001b[39m__eq__\u001b[39m(\u001b[39mself\u001b[39m, other):\n\u001b[1;32m---> 42\u001b[0m     \u001b[39mreturn\u001b[39;00m \u001b[39mself\u001b[39;49m\u001b[39m.\u001b[39;49m_cmp_method(other, operator\u001b[39m.\u001b[39;49meq)\n",
      "File \u001b[1;32mc:\\Users\\ranyk\\AppData\\Local\\Programs\\Python\\Python310\\lib\\site-packages\\pandas\\core\\series.py:6243\u001b[0m, in \u001b[0;36mSeries._cmp_method\u001b[1;34m(self, other, op)\u001b[0m\n\u001b[0;32m   6240\u001b[0m rvalues \u001b[39m=\u001b[39m extract_array(other, extract_numpy\u001b[39m=\u001b[39m\u001b[39mTrue\u001b[39;00m, extract_range\u001b[39m=\u001b[39m\u001b[39mTrue\u001b[39;00m)\n\u001b[0;32m   6242\u001b[0m \u001b[39mwith\u001b[39;00m np\u001b[39m.\u001b[39merrstate(\u001b[39mall\u001b[39m\u001b[39m=\u001b[39m\u001b[39m\"\u001b[39m\u001b[39mignore\u001b[39m\u001b[39m\"\u001b[39m):\n\u001b[1;32m-> 6243\u001b[0m     res_values \u001b[39m=\u001b[39m ops\u001b[39m.\u001b[39;49mcomparison_op(lvalues, rvalues, op)\n\u001b[0;32m   6245\u001b[0m \u001b[39mreturn\u001b[39;00m \u001b[39mself\u001b[39m\u001b[39m.\u001b[39m_construct_result(res_values, name\u001b[39m=\u001b[39mres_name)\n",
      "File \u001b[1;32mc:\\Users\\ranyk\\AppData\\Local\\Programs\\Python\\Python310\\lib\\site-packages\\pandas\\core\\ops\\array_ops.py:287\u001b[0m, in \u001b[0;36mcomparison_op\u001b[1;34m(left, right, op)\u001b[0m\n\u001b[0;32m    284\u001b[0m     \u001b[39mreturn\u001b[39;00m invalid_comparison(lvalues, rvalues, op)\n\u001b[0;32m    286\u001b[0m \u001b[39melif\u001b[39;00m is_object_dtype(lvalues\u001b[39m.\u001b[39mdtype) \u001b[39mor\u001b[39;00m \u001b[39misinstance\u001b[39m(rvalues, \u001b[39mstr\u001b[39m):\n\u001b[1;32m--> 287\u001b[0m     res_values \u001b[39m=\u001b[39m comp_method_OBJECT_ARRAY(op, lvalues, rvalues)\n\u001b[0;32m    289\u001b[0m \u001b[39melse\u001b[39;00m:\n\u001b[0;32m    290\u001b[0m     res_values \u001b[39m=\u001b[39m _na_arithmetic_op(lvalues, rvalues, op, is_cmp\u001b[39m=\u001b[39m\u001b[39mTrue\u001b[39;00m)\n",
      "File \u001b[1;32mc:\\Users\\ranyk\\AppData\\Local\\Programs\\Python\\Python310\\lib\\site-packages\\pandas\\core\\ops\\array_ops.py:76\u001b[0m, in \u001b[0;36mcomp_method_OBJECT_ARRAY\u001b[1;34m(op, x, y)\u001b[0m\n\u001b[0;32m     74\u001b[0m \u001b[39melse\u001b[39;00m:\n\u001b[0;32m     75\u001b[0m     result \u001b[39m=\u001b[39m libops\u001b[39m.\u001b[39mscalar_compare(x\u001b[39m.\u001b[39mravel(), y, op)\n\u001b[1;32m---> 76\u001b[0m \u001b[39mreturn\u001b[39;00m result\u001b[39m.\u001b[39;49mreshape(x\u001b[39m.\u001b[39;49mshape)\n",
      "\u001b[1;31mKeyboardInterrupt\u001b[0m: "
     ]
    }
   ],
   "source": [
    "import warnings\n",
    "warnings.simplefilter(action='ignore')\n",
    "\n",
    "years = [int(x.split(\"-\")[0]) for x in yrs]\n",
    "\n",
    "columns = [\"name\"] + years\n",
    "print(columns)\n",
    "\n",
    "tuition_db = pd.DataFrame(columns = columns)\n",
    "tuition_db['name'] = colleges\n",
    "\n",
    "supplies_db = tuition_db.copy()\n",
    "\n",
    "room_db = tuition_db.copy()\n",
    "\n",
    "\n",
    "for i in range(len(colleges)):\n",
    "    tuition = [db[db['name'] == colleges[i]][db['data_yr_string'] == x]['coa_tuit_fees_d'].values[0] for x in yrs]\n",
    "    supplies = [db[db['name'] == colleges[i]][db['data_yr_string'] == x]['coa_books_supp_d'].values[0] for x in yrs]\n",
    "    room = [db[db['name'] == colleges[i]][db['data_yr_string'] == x]['coa_on_room_board_d'].values[0] for x in yrs]\n",
    "    #print([college] + tuition)\n",
    "    #row = pd.DataFrame([colleges[i]] + tuition, columns = columns)\n",
    "    #print(row)\n",
    "    \n",
    "    for yr in years:\n",
    "        tuition_db.loc[i, yr] = tuition[years.index(yr)]\n",
    "        supplies_db.loc[i, yr] = supplies[years.index(yr)]\n",
    "        room_db.loc[i, yr] = room[years.index(yr)]\n",
    "\n",
    "    print(f\"{i+1} / {len(colleges)}\", end = \"\\r\")\n",
    "\n",
    "    #print(tuition)\n",
    "    #print(\"AAAAAAAAAAAAAAAAAAAAAAAAAAAAAAAAAAAAAAAAAAAAAAAAa\")\n",
    "    #tuition_db[tuition_db['name'] == colleges[i]] = tuition[i]\n",
    "    #tuition_db[i] = tuition\n",
    "\n",
    "    \n",
    "#print(tuition_db)\n"
   ]
  },
  {
   "attachments": {},
   "cell_type": "markdown",
   "metadata": {},
   "source": [
    "Save the dataframes to csv files"
   ]
  },
  {
   "cell_type": "code",
   "execution_count": null,
   "metadata": {},
   "outputs": [],
   "source": [
    "tuition_db.to_csv(\"../data/tuition_db.csv\")\n",
    "supplies_db.to_csv(\"../data/supplies_db.csv\")\n",
    "room_db.to_csv(\"../data/room_db.csv\")"
   ]
  },
  {
   "attachments": {},
   "cell_type": "markdown",
   "metadata": {},
   "source": [
    "Load the dataframes from csv files"
   ]
  },
  {
   "cell_type": "code",
   "execution_count": null,
   "metadata": {},
   "outputs": [],
   "source": [
    "tuition_db = read_csv(\"../data/tuition_db.csv\")\n",
    "supplies_db = read_csv(\"../data/supplies_db.csv\")\n",
    "room_db = read_csv(\"../data/room_db.csv\")"
   ]
  }
 ],
 "metadata": {
  "kernelspec": {
   "display_name": "Python 3.10.7 64-bit",
   "language": "python",
   "name": "python3"
  },
  "language_info": {
   "codemirror_mode": {
    "name": "ipython",
    "version": 3
   },
   "file_extension": ".py",
   "mimetype": "text/x-python",
   "name": "python",
   "nbconvert_exporter": "python",
   "pygments_lexer": "ipython3",
   "version": "3.10.7"
  },
  "orig_nbformat": 4,
  "vscode": {
   "interpreter": {
    "hash": "b4602112d34eada9db41c59342e7e55a65d5679b8a3badffad61d0cc64483a4c"
   }
  }
 },
 "nbformat": 4,
 "nbformat_minor": 2
}
